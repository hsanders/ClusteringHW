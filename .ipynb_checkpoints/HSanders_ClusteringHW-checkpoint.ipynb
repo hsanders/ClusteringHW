{
 "cells": [
  {
   "cell_type": "code",
   "execution_count": 1,
   "metadata": {
    "collapsed": false
   },
   "outputs": [],
   "source": [
    "from sklearn import datasets\n",
    "import pandas as pd\n",
    "from sklearn.cluster import KMeans\n",
    "from sklearn.preprocessing import StandardScaler\n",
    "import numpy as np\n",
    "\n",
    "%matplotlib inline"
   ]
  },
  {
   "cell_type": "code",
   "execution_count": 2,
   "metadata": {
    "collapsed": false
   },
   "outputs": [],
   "source": [
    "iris = datasets.load_iris()\n",
    "X = iris.data\n",
    "df = pd.DataFrame(X)\n",
    "df.columns = iris.feature_names\n"
   ]
  },
  {
   "cell_type": "markdown",
   "metadata": {},
   "source": [
    "The dataset we're using today contains information about flowers called an iris.  We're going to use K-Means clustering to atttempt to identify unique types of iris.\n",
    "\n",
    "Step 1:  Use my method below to identify how many groups are in the dataset.\n",
    "\n",
    "Step 2:  add the kmeans cluster labels into the dataframe df.\n"
   ]
  },
  {
   "cell_type": "code",
   "execution_count": 46,
   "metadata": {
    "collapsed": false
   },
   "outputs": [
    {
     "data": {
      "text/plain": [
       "(150L, 4L)"
      ]
     },
     "execution_count": 46,
     "metadata": {},
     "output_type": "execute_result"
    }
   ],
   "source": [
    "X.shape"
   ]
  },
  {
   "cell_type": "code",
   "execution_count": 3,
   "metadata": {
    "collapsed": false
   },
   "outputs": [
    {
     "data": {
      "text/html": [
       "<div>\n",
       "<table border=\"1\" class=\"dataframe\">\n",
       "  <thead>\n",
       "    <tr style=\"text-align: right;\">\n",
       "      <th></th>\n",
       "      <th>sepal length (cm)</th>\n",
       "      <th>sepal width (cm)</th>\n",
       "      <th>petal length (cm)</th>\n",
       "      <th>petal width (cm)</th>\n",
       "    </tr>\n",
       "  </thead>\n",
       "  <tbody>\n",
       "    <tr>\n",
       "      <th>0</th>\n",
       "      <td>5.1</td>\n",
       "      <td>3.5</td>\n",
       "      <td>1.4</td>\n",
       "      <td>0.2</td>\n",
       "    </tr>\n",
       "    <tr>\n",
       "      <th>1</th>\n",
       "      <td>4.9</td>\n",
       "      <td>3.0</td>\n",
       "      <td>1.4</td>\n",
       "      <td>0.2</td>\n",
       "    </tr>\n",
       "    <tr>\n",
       "      <th>2</th>\n",
       "      <td>4.7</td>\n",
       "      <td>3.2</td>\n",
       "      <td>1.3</td>\n",
       "      <td>0.2</td>\n",
       "    </tr>\n",
       "    <tr>\n",
       "      <th>3</th>\n",
       "      <td>4.6</td>\n",
       "      <td>3.1</td>\n",
       "      <td>1.5</td>\n",
       "      <td>0.2</td>\n",
       "    </tr>\n",
       "    <tr>\n",
       "      <th>4</th>\n",
       "      <td>5.0</td>\n",
       "      <td>3.6</td>\n",
       "      <td>1.4</td>\n",
       "      <td>0.2</td>\n",
       "    </tr>\n",
       "  </tbody>\n",
       "</table>\n",
       "</div>"
      ],
      "text/plain": [
       "   sepal length (cm)  sepal width (cm)  petal length (cm)  petal width (cm)\n",
       "0                5.1               3.5                1.4               0.2\n",
       "1                4.9               3.0                1.4               0.2\n",
       "2                4.7               3.2                1.3               0.2\n",
       "3                4.6               3.1                1.5               0.2\n",
       "4                5.0               3.6                1.4               0.2"
      ]
     },
     "execution_count": 3,
     "metadata": {},
     "output_type": "execute_result"
    }
   ],
   "source": [
    "df.head()"
   ]
  },
  {
   "cell_type": "code",
   "execution_count": 4,
   "metadata": {
    "collapsed": false
   },
   "outputs": [],
   "source": [
    "def find_k (X, k_range, sample_percent=1):\n",
    "    \"\"\"\n",
    "    k_range: a list of possible k values\n",
    "    X, the data we're clustering on\n",
    "    \"\"\"\n",
    "    from sklearn.cluster import KMeans\n",
    "    import matplotlib.pyplot as plt\n",
    "    import numpy as np\n",
    "    from scipy.spatial.distance import cdist\n",
    "    from sklearn.metrics import pairwise_distances\n",
    "\n",
    "    N = X.shape[0]\n",
    "    sampleSize = X.shape[0] * sample_percent\n",
    "\n",
    "    if sampleSize > 0:\n",
    "        index = np.arange(np.shape(X)[0])\n",
    "        np.random.shuffle(index)\n",
    "        X =  X[index, :]\n",
    "\n",
    "\n",
    "    mean_distortions=[]\n",
    "    for k in k_range:\n",
    "        #cluster using k, then calculate the mean distortion (average distance to closest centroid)\n",
    "        kmeans_model = KMeans(n_clusters=k, init='k-means++', n_jobs=-1).fit(X)\n",
    "        mean_distortions.append(sum(np.min(pairwise_distances(X, kmeans_model.cluster_centers_,\n",
    "                                                              metric='euclidean'),axis=1)) / X.shape[0])\n",
    "\n",
    "\n",
    "    #visualize results\n",
    "    plt.plot(k_range, mean_distortions)\n",
    "    plt.xlabel(\"K Value\")\n",
    "    plt.ylabel(\"Mean Distortion\")\n",
    "    plt.title(\"Elbow Graph for Mean Distortion per K\")\n",
    "    plt.show()"
   ]
  },
  {
   "cell_type": "code",
   "execution_count": 5,
   "metadata": {
    "collapsed": false
   },
   "outputs": [],
   "source": [
    "#feature scaling\n",
    "scaler = StandardScaler()\n",
    "df_scaled = scaler.fit_transform(df)"
   ]
  },
  {
   "cell_type": "code",
   "execution_count": 6,
   "metadata": {
    "collapsed": true
   },
   "outputs": [
    {
     "data": {
      "text/plain": [
       "array([[ -9.00681170e-01,   1.03205722e+00,  -1.34127240e+00,\n",
       "         -1.31297673e+00],\n",
       "       [ -1.14301691e+00,  -1.24957601e-01,  -1.34127240e+00,\n",
       "         -1.31297673e+00],\n",
       "       [ -1.38535265e+00,   3.37848329e-01,  -1.39813811e+00,\n",
       "         -1.31297673e+00],\n",
       "       [ -1.50652052e+00,   1.06445364e-01,  -1.28440670e+00,\n",
       "         -1.31297673e+00],\n",
       "       [ -1.02184904e+00,   1.26346019e+00,  -1.34127240e+00,\n",
       "         -1.31297673e+00],\n",
       "       [ -5.37177559e-01,   1.95766909e+00,  -1.17067529e+00,\n",
       "         -1.05003079e+00],\n",
       "       [ -1.50652052e+00,   8.00654259e-01,  -1.34127240e+00,\n",
       "         -1.18150376e+00],\n",
       "       [ -1.02184904e+00,   8.00654259e-01,  -1.28440670e+00,\n",
       "         -1.31297673e+00],\n",
       "       [ -1.74885626e+00,  -3.56360566e-01,  -1.34127240e+00,\n",
       "         -1.31297673e+00],\n",
       "       [ -1.14301691e+00,   1.06445364e-01,  -1.28440670e+00,\n",
       "         -1.44444970e+00],\n",
       "       [ -5.37177559e-01,   1.49486315e+00,  -1.28440670e+00,\n",
       "         -1.31297673e+00],\n",
       "       [ -1.26418478e+00,   8.00654259e-01,  -1.22754100e+00,\n",
       "         -1.31297673e+00],\n",
       "       [ -1.26418478e+00,  -1.24957601e-01,  -1.34127240e+00,\n",
       "         -1.44444970e+00],\n",
       "       [ -1.87002413e+00,  -1.24957601e-01,  -1.51186952e+00,\n",
       "         -1.44444970e+00],\n",
       "       [ -5.25060772e-02,   2.18907205e+00,  -1.45500381e+00,\n",
       "         -1.31297673e+00],\n",
       "       [ -1.73673948e-01,   3.11468391e+00,  -1.28440670e+00,\n",
       "         -1.05003079e+00],\n",
       "       [ -5.37177559e-01,   1.95766909e+00,  -1.39813811e+00,\n",
       "         -1.05003079e+00],\n",
       "       [ -9.00681170e-01,   1.03205722e+00,  -1.34127240e+00,\n",
       "         -1.18150376e+00],\n",
       "       [ -1.73673948e-01,   1.72626612e+00,  -1.17067529e+00,\n",
       "         -1.18150376e+00],\n",
       "       [ -9.00681170e-01,   1.72626612e+00,  -1.28440670e+00,\n",
       "         -1.18150376e+00],\n",
       "       [ -5.37177559e-01,   8.00654259e-01,  -1.17067529e+00,\n",
       "         -1.31297673e+00],\n",
       "       [ -9.00681170e-01,   1.49486315e+00,  -1.28440670e+00,\n",
       "         -1.05003079e+00],\n",
       "       [ -1.50652052e+00,   1.26346019e+00,  -1.56873522e+00,\n",
       "         -1.31297673e+00],\n",
       "       [ -9.00681170e-01,   5.69251294e-01,  -1.17067529e+00,\n",
       "         -9.18557817e-01],\n",
       "       [ -1.26418478e+00,   8.00654259e-01,  -1.05694388e+00,\n",
       "         -1.31297673e+00],\n",
       "       [ -1.02184904e+00,  -1.24957601e-01,  -1.22754100e+00,\n",
       "         -1.31297673e+00],\n",
       "       [ -1.02184904e+00,   8.00654259e-01,  -1.22754100e+00,\n",
       "         -1.05003079e+00],\n",
       "       [ -7.79513300e-01,   1.03205722e+00,  -1.28440670e+00,\n",
       "         -1.31297673e+00],\n",
       "       [ -7.79513300e-01,   8.00654259e-01,  -1.34127240e+00,\n",
       "         -1.31297673e+00],\n",
       "       [ -1.38535265e+00,   3.37848329e-01,  -1.22754100e+00,\n",
       "         -1.31297673e+00],\n",
       "       [ -1.26418478e+00,   1.06445364e-01,  -1.22754100e+00,\n",
       "         -1.31297673e+00],\n",
       "       [ -5.37177559e-01,   8.00654259e-01,  -1.28440670e+00,\n",
       "         -1.05003079e+00],\n",
       "       [ -7.79513300e-01,   2.42047502e+00,  -1.28440670e+00,\n",
       "         -1.44444970e+00],\n",
       "       [ -4.16009689e-01,   2.65187798e+00,  -1.34127240e+00,\n",
       "         -1.31297673e+00],\n",
       "       [ -1.14301691e+00,   1.06445364e-01,  -1.28440670e+00,\n",
       "         -1.44444970e+00],\n",
       "       [ -1.02184904e+00,   3.37848329e-01,  -1.45500381e+00,\n",
       "         -1.31297673e+00],\n",
       "       [ -4.16009689e-01,   1.03205722e+00,  -1.39813811e+00,\n",
       "         -1.31297673e+00],\n",
       "       [ -1.14301691e+00,   1.06445364e-01,  -1.28440670e+00,\n",
       "         -1.44444970e+00],\n",
       "       [ -1.74885626e+00,  -1.24957601e-01,  -1.39813811e+00,\n",
       "         -1.31297673e+00],\n",
       "       [ -9.00681170e-01,   8.00654259e-01,  -1.28440670e+00,\n",
       "         -1.31297673e+00],\n",
       "       [ -1.02184904e+00,   1.03205722e+00,  -1.39813811e+00,\n",
       "         -1.18150376e+00],\n",
       "       [ -1.62768839e+00,  -1.74477836e+00,  -1.39813811e+00,\n",
       "         -1.18150376e+00],\n",
       "       [ -1.74885626e+00,   3.37848329e-01,  -1.39813811e+00,\n",
       "         -1.31297673e+00],\n",
       "       [ -1.02184904e+00,   1.03205722e+00,  -1.22754100e+00,\n",
       "         -7.87084847e-01],\n",
       "       [ -9.00681170e-01,   1.72626612e+00,  -1.05694388e+00,\n",
       "         -1.05003079e+00],\n",
       "       [ -1.26418478e+00,  -1.24957601e-01,  -1.34127240e+00,\n",
       "         -1.18150376e+00],\n",
       "       [ -9.00681170e-01,   1.72626612e+00,  -1.22754100e+00,\n",
       "         -1.31297673e+00],\n",
       "       [ -1.50652052e+00,   3.37848329e-01,  -1.34127240e+00,\n",
       "         -1.31297673e+00],\n",
       "       [ -6.58345429e-01,   1.49486315e+00,  -1.28440670e+00,\n",
       "         -1.31297673e+00],\n",
       "       [ -1.02184904e+00,   5.69251294e-01,  -1.34127240e+00,\n",
       "         -1.31297673e+00],\n",
       "       [  1.40150837e+00,   3.37848329e-01,   5.35295827e-01,\n",
       "          2.64698913e-01],\n",
       "       [  6.74501145e-01,   3.37848329e-01,   4.21564419e-01,\n",
       "          3.96171883e-01],\n",
       "       [  1.28034050e+00,   1.06445364e-01,   6.49027235e-01,\n",
       "          3.96171883e-01],\n",
       "       [ -4.16009689e-01,  -1.74477836e+00,   1.37235899e-01,\n",
       "          1.33225943e-01],\n",
       "       [  7.95669016e-01,  -5.87763531e-01,   4.78430123e-01,\n",
       "          3.96171883e-01],\n",
       "       [ -1.73673948e-01,  -5.87763531e-01,   4.21564419e-01,\n",
       "          1.33225943e-01],\n",
       "       [  5.53333275e-01,   5.69251294e-01,   5.35295827e-01,\n",
       "          5.27644853e-01],\n",
       "       [ -1.14301691e+00,  -1.51337539e+00,  -2.60824029e-01,\n",
       "         -2.61192967e-01],\n",
       "       [  9.16836886e-01,  -3.56360566e-01,   4.78430123e-01,\n",
       "          1.33225943e-01],\n",
       "       [ -7.79513300e-01,  -8.19166497e-01,   8.03701950e-02,\n",
       "          2.64698913e-01],\n",
       "       [ -1.02184904e+00,  -2.43898725e+00,  -1.47092621e-01,\n",
       "         -2.61192967e-01],\n",
       "       [  6.86617933e-02,  -1.24957601e-01,   2.50967307e-01,\n",
       "          3.96171883e-01],\n",
       "       [  1.89829664e-01,  -1.97618132e+00,   1.37235899e-01,\n",
       "         -2.61192967e-01],\n",
       "       [  3.10997534e-01,  -3.56360566e-01,   5.35295827e-01,\n",
       "          2.64698913e-01],\n",
       "       [ -2.94841818e-01,  -3.56360566e-01,  -9.02269170e-02,\n",
       "          1.33225943e-01],\n",
       "       [  1.03800476e+00,   1.06445364e-01,   3.64698715e-01,\n",
       "          2.64698913e-01],\n",
       "       [ -2.94841818e-01,  -1.24957601e-01,   4.21564419e-01,\n",
       "          3.96171883e-01],\n",
       "       [ -5.25060772e-02,  -8.19166497e-01,   1.94101603e-01,\n",
       "         -2.61192967e-01],\n",
       "       [  4.32165405e-01,  -1.97618132e+00,   4.21564419e-01,\n",
       "          3.96171883e-01],\n",
       "       [ -2.94841818e-01,  -1.28197243e+00,   8.03701950e-02,\n",
       "         -1.29719997e-01],\n",
       "       [  6.86617933e-02,   3.37848329e-01,   5.92161531e-01,\n",
       "          7.90590793e-01],\n",
       "       [  3.10997534e-01,  -5.87763531e-01,   1.37235899e-01,\n",
       "          1.33225943e-01],\n",
       "       [  5.53333275e-01,  -1.28197243e+00,   6.49027235e-01,\n",
       "          3.96171883e-01],\n",
       "       [  3.10997534e-01,  -5.87763531e-01,   5.35295827e-01,\n",
       "          1.75297293e-03],\n",
       "       [  6.74501145e-01,  -3.56360566e-01,   3.07833011e-01,\n",
       "          1.33225943e-01],\n",
       "       [  9.16836886e-01,  -1.24957601e-01,   3.64698715e-01,\n",
       "          2.64698913e-01],\n",
       "       [  1.15917263e+00,  -5.87763531e-01,   5.92161531e-01,\n",
       "          2.64698913e-01],\n",
       "       [  1.03800476e+00,  -1.24957601e-01,   7.05892939e-01,\n",
       "          6.59117823e-01],\n",
       "       [  1.89829664e-01,  -3.56360566e-01,   4.21564419e-01,\n",
       "          3.96171883e-01],\n",
       "       [ -1.73673948e-01,  -1.05056946e+00,  -1.47092621e-01,\n",
       "         -2.61192967e-01],\n",
       "       [ -4.16009689e-01,  -1.51337539e+00,   2.35044910e-02,\n",
       "         -1.29719997e-01],\n",
       "       [ -4.16009689e-01,  -1.51337539e+00,  -3.33612130e-02,\n",
       "         -2.61192967e-01],\n",
       "       [ -5.25060772e-02,  -8.19166497e-01,   8.03701950e-02,\n",
       "          1.75297293e-03],\n",
       "       [  1.89829664e-01,  -8.19166497e-01,   7.62758643e-01,\n",
       "          5.27644853e-01],\n",
       "       [ -5.37177559e-01,  -1.24957601e-01,   4.21564419e-01,\n",
       "          3.96171883e-01],\n",
       "       [  1.89829664e-01,   8.00654259e-01,   4.21564419e-01,\n",
       "          5.27644853e-01],\n",
       "       [  1.03800476e+00,   1.06445364e-01,   5.35295827e-01,\n",
       "          3.96171883e-01],\n",
       "       [  5.53333275e-01,  -1.74477836e+00,   3.64698715e-01,\n",
       "          1.33225943e-01],\n",
       "       [ -2.94841818e-01,  -1.24957601e-01,   1.94101603e-01,\n",
       "          1.33225943e-01],\n",
       "       [ -4.16009689e-01,  -1.28197243e+00,   1.37235899e-01,\n",
       "          1.33225943e-01],\n",
       "       [ -4.16009689e-01,  -1.05056946e+00,   3.64698715e-01,\n",
       "          1.75297293e-03],\n",
       "       [  3.10997534e-01,  -1.24957601e-01,   4.78430123e-01,\n",
       "          2.64698913e-01],\n",
       "       [ -5.25060772e-02,  -1.05056946e+00,   1.37235899e-01,\n",
       "          1.75297293e-03],\n",
       "       [ -1.02184904e+00,  -1.74477836e+00,  -2.60824029e-01,\n",
       "         -2.61192967e-01],\n",
       "       [ -2.94841818e-01,  -8.19166497e-01,   2.50967307e-01,\n",
       "          1.33225943e-01],\n",
       "       [ -1.73673948e-01,  -1.24957601e-01,   2.50967307e-01,\n",
       "          1.75297293e-03],\n",
       "       [ -1.73673948e-01,  -3.56360566e-01,   2.50967307e-01,\n",
       "          1.33225943e-01],\n",
       "       [  4.32165405e-01,  -3.56360566e-01,   3.07833011e-01,\n",
       "          1.33225943e-01],\n",
       "       [ -9.00681170e-01,  -1.28197243e+00,  -4.31421141e-01,\n",
       "         -1.29719997e-01],\n",
       "       [ -1.73673948e-01,  -5.87763531e-01,   1.94101603e-01,\n",
       "          1.33225943e-01],\n",
       "       [  5.53333275e-01,   5.69251294e-01,   1.27454998e+00,\n",
       "          1.71090158e+00],\n",
       "       [ -5.25060772e-02,  -8.19166497e-01,   7.62758643e-01,\n",
       "          9.22063763e-01],\n",
       "       [  1.52267624e+00,  -1.24957601e-01,   1.21768427e+00,\n",
       "          1.18500970e+00],\n",
       "       [  5.53333275e-01,  -3.56360566e-01,   1.04708716e+00,\n",
       "          7.90590793e-01],\n",
       "       [  7.95669016e-01,  -1.24957601e-01,   1.16081857e+00,\n",
       "          1.31648267e+00],\n",
       "       [  2.12851559e+00,  -1.24957601e-01,   1.61574420e+00,\n",
       "          1.18500970e+00],\n",
       "       [ -1.14301691e+00,  -1.28197243e+00,   4.21564419e-01,\n",
       "          6.59117823e-01],\n",
       "       [  1.76501198e+00,  -3.56360566e-01,   1.44514709e+00,\n",
       "          7.90590793e-01],\n",
       "       [  1.03800476e+00,  -1.28197243e+00,   1.16081857e+00,\n",
       "          7.90590793e-01],\n",
       "       [  1.64384411e+00,   1.26346019e+00,   1.33141568e+00,\n",
       "          1.71090158e+00],\n",
       "       [  7.95669016e-01,   3.37848329e-01,   7.62758643e-01,\n",
       "          1.05353673e+00],\n",
       "       [  6.74501145e-01,  -8.19166497e-01,   8.76490051e-01,\n",
       "          9.22063763e-01],\n",
       "       [  1.15917263e+00,  -1.24957601e-01,   9.90221459e-01,\n",
       "          1.18500970e+00],\n",
       "       [ -1.73673948e-01,  -1.28197243e+00,   7.05892939e-01,\n",
       "          1.05353673e+00],\n",
       "       [ -5.25060772e-02,  -5.87763531e-01,   7.62758643e-01,\n",
       "          1.57942861e+00],\n",
       "       [  6.74501145e-01,   3.37848329e-01,   8.76490051e-01,\n",
       "          1.44795564e+00],\n",
       "       [  7.95669016e-01,  -1.24957601e-01,   9.90221459e-01,\n",
       "          7.90590793e-01],\n",
       "       [  2.24968346e+00,   1.72626612e+00,   1.67260991e+00,\n",
       "          1.31648267e+00],\n",
       "       [  2.24968346e+00,  -1.05056946e+00,   1.78634131e+00,\n",
       "          1.44795564e+00],\n",
       "       [  1.89829664e-01,  -1.97618132e+00,   7.05892939e-01,\n",
       "          3.96171883e-01],\n",
       "       [  1.28034050e+00,   3.37848329e-01,   1.10395287e+00,\n",
       "          1.44795564e+00],\n",
       "       [ -2.94841818e-01,  -5.87763531e-01,   6.49027235e-01,\n",
       "          1.05353673e+00],\n",
       "       [  2.24968346e+00,  -5.87763531e-01,   1.67260991e+00,\n",
       "          1.05353673e+00],\n",
       "       [  5.53333275e-01,  -8.19166497e-01,   6.49027235e-01,\n",
       "          7.90590793e-01],\n",
       "       [  1.03800476e+00,   5.69251294e-01,   1.10395287e+00,\n",
       "          1.18500970e+00],\n",
       "       [  1.64384411e+00,   3.37848329e-01,   1.27454998e+00,\n",
       "          7.90590793e-01],\n",
       "       [  4.32165405e-01,  -5.87763531e-01,   5.92161531e-01,\n",
       "          7.90590793e-01],\n",
       "       [  3.10997534e-01,  -1.24957601e-01,   6.49027235e-01,\n",
       "          7.90590793e-01],\n",
       "       [  6.74501145e-01,  -5.87763531e-01,   1.04708716e+00,\n",
       "          1.18500970e+00],\n",
       "       [  1.64384411e+00,  -1.24957601e-01,   1.16081857e+00,\n",
       "          5.27644853e-01],\n",
       "       [  1.88617985e+00,  -5.87763531e-01,   1.33141568e+00,\n",
       "          9.22063763e-01],\n",
       "       [  2.49201920e+00,   1.72626612e+00,   1.50201279e+00,\n",
       "          1.05353673e+00],\n",
       "       [  6.74501145e-01,  -5.87763531e-01,   1.04708716e+00,\n",
       "          1.31648267e+00],\n",
       "       [  5.53333275e-01,  -5.87763531e-01,   7.62758643e-01,\n",
       "          3.96171883e-01],\n",
       "       [  3.10997534e-01,  -1.05056946e+00,   1.04708716e+00,\n",
       "          2.64698913e-01],\n",
       "       [  2.24968346e+00,  -1.24957601e-01,   1.33141568e+00,\n",
       "          1.44795564e+00],\n",
       "       [  5.53333275e-01,   8.00654259e-01,   1.04708716e+00,\n",
       "          1.57942861e+00],\n",
       "       [  6.74501145e-01,   1.06445364e-01,   9.90221459e-01,\n",
       "          7.90590793e-01],\n",
       "       [  1.89829664e-01,  -1.24957601e-01,   5.92161531e-01,\n",
       "          7.90590793e-01],\n",
       "       [  1.28034050e+00,   1.06445364e-01,   9.33355755e-01,\n",
       "          1.18500970e+00],\n",
       "       [  1.03800476e+00,   1.06445364e-01,   1.04708716e+00,\n",
       "          1.57942861e+00],\n",
       "       [  1.28034050e+00,   1.06445364e-01,   7.62758643e-01,\n",
       "          1.44795564e+00],\n",
       "       [ -5.25060772e-02,  -8.19166497e-01,   7.62758643e-01,\n",
       "          9.22063763e-01],\n",
       "       [  1.15917263e+00,   3.37848329e-01,   1.21768427e+00,\n",
       "          1.44795564e+00],\n",
       "       [  1.03800476e+00,   5.69251294e-01,   1.10395287e+00,\n",
       "          1.71090158e+00],\n",
       "       [  1.03800476e+00,  -1.24957601e-01,   8.19624347e-01,\n",
       "          1.44795564e+00],\n",
       "       [  5.53333275e-01,  -1.28197243e+00,   7.05892939e-01,\n",
       "          9.22063763e-01],\n",
       "       [  7.95669016e-01,  -1.24957601e-01,   8.19624347e-01,\n",
       "          1.05353673e+00],\n",
       "       [  4.32165405e-01,   8.00654259e-01,   9.33355755e-01,\n",
       "          1.44795564e+00],\n",
       "       [  6.86617933e-02,  -1.24957601e-01,   7.62758643e-01,\n",
       "          7.90590793e-01]])"
      ]
     },
     "execution_count": 6,
     "metadata": {},
     "output_type": "execute_result"
    }
   ],
   "source": [
    "df_scaled"
   ]
  },
  {
   "cell_type": "code",
   "execution_count": 7,
   "metadata": {
    "collapsed": false
   },
   "outputs": [
    {
     "data": {
      "image/png": "[encoded data removed]",
      "text/plain": [
       "<matplotlib.figure.Figure at 0x1b273710>"
      ]
     },
     "metadata": {},
     "output_type": "display_data"
    }
   ],
   "source": [
    "find_k(np.matrix(df), range(1,10),1)"
   ]
  },
  {
   "cell_type": "markdown",
   "metadata": {},
   "source": [
    "The above elbow graph indicates two elbows at K=2 and K=3."
   ]
  },
  {
   "cell_type": "code",
   "execution_count": 33,
   "metadata": {
    "collapsed": false
   },
   "outputs": [
    {
     "data": {
      "text/plain": [
       "KMeans(copy_x=True, init='k-means++', max_iter=300, n_clusters=3, n_init=10,\n",
       "    n_jobs=1, precompute_distances='auto', random_state=42, tol=0.0001,\n",
       "    verbose=0)"
      ]
     },
     "execution_count": 33,
     "metadata": {},
     "output_type": "execute_result"
    }
   ],
   "source": [
    "# Setting number of clusters at 3\n",
    "kmeans_model = KMeans(n_clusters=3, random_state=42)\n",
    "kmeans_model.fit(df_scaled)"
   ]
  },
  {
   "cell_type": "code",
   "execution_count": 34,
   "metadata": {
    "collapsed": true
   },
   "outputs": [],
   "source": [
    "df['labels'] = kmeans_model.labels_"
   ]
  },
  {
   "cell_type": "code",
   "execution_count": 38,
   "metadata": {
    "collapsed": false
   },
   "outputs": [
    {
     "data": {
      "text/html": [
       "<div>\n",
       "<table border=\"1\" class=\"dataframe\">\n",
       "  <thead>\n",
       "    <tr style=\"text-align: right;\">\n",
       "      <th></th>\n",
       "      <th>sepal length (cm)</th>\n",
       "      <th>sepal width (cm)</th>\n",
       "      <th>petal length (cm)</th>\n",
       "      <th>petal width (cm)</th>\n",
       "      <th>labels</th>\n",
       "    </tr>\n",
       "  </thead>\n",
       "  <tbody>\n",
       "    <tr>\n",
       "      <th>0</th>\n",
       "      <td>5.1</td>\n",
       "      <td>3.5</td>\n",
       "      <td>1.4</td>\n",
       "      <td>0.2</td>\n",
       "      <td>1</td>\n",
       "    </tr>\n",
       "    <tr>\n",
       "      <th>1</th>\n",
       "      <td>4.9</td>\n",
       "      <td>3.0</td>\n",
       "      <td>1.4</td>\n",
       "      <td>0.2</td>\n",
       "      <td>1</td>\n",
       "    </tr>\n",
       "    <tr>\n",
       "      <th>2</th>\n",
       "      <td>4.7</td>\n",
       "      <td>3.2</td>\n",
       "      <td>1.3</td>\n",
       "      <td>0.2</td>\n",
       "      <td>1</td>\n",
       "    </tr>\n",
       "    <tr>\n",
       "      <th>3</th>\n",
       "      <td>4.6</td>\n",
       "      <td>3.1</td>\n",
       "      <td>1.5</td>\n",
       "      <td>0.2</td>\n",
       "      <td>1</td>\n",
       "    </tr>\n",
       "    <tr>\n",
       "      <th>4</th>\n",
       "      <td>5.0</td>\n",
       "      <td>3.6</td>\n",
       "      <td>1.4</td>\n",
       "      <td>0.2</td>\n",
       "      <td>1</td>\n",
       "    </tr>\n",
       "    <tr>\n",
       "      <th>5</th>\n",
       "      <td>5.4</td>\n",
       "      <td>3.9</td>\n",
       "      <td>1.7</td>\n",
       "      <td>0.4</td>\n",
       "      <td>1</td>\n",
       "    </tr>\n",
       "    <tr>\n",
       "      <th>6</th>\n",
       "      <td>4.6</td>\n",
       "      <td>3.4</td>\n",
       "      <td>1.4</td>\n",
       "      <td>0.3</td>\n",
       "      <td>1</td>\n",
       "    </tr>\n",
       "    <tr>\n",
       "      <th>7</th>\n",
       "      <td>5.0</td>\n",
       "      <td>3.4</td>\n",
       "      <td>1.5</td>\n",
       "      <td>0.2</td>\n",
       "      <td>1</td>\n",
       "    </tr>\n",
       "    <tr>\n",
       "      <th>8</th>\n",
       "      <td>4.4</td>\n",
       "      <td>2.9</td>\n",
       "      <td>1.4</td>\n",
       "      <td>0.2</td>\n",
       "      <td>1</td>\n",
       "    </tr>\n",
       "    <tr>\n",
       "      <th>9</th>\n",
       "      <td>4.9</td>\n",
       "      <td>3.1</td>\n",
       "      <td>1.5</td>\n",
       "      <td>0.1</td>\n",
       "      <td>1</td>\n",
       "    </tr>\n",
       "  </tbody>\n",
       "</table>\n",
       "</div>"
      ],
      "text/plain": [
       "   sepal length (cm)  sepal width (cm)  petal length (cm)  petal width (cm)  \\\n",
       "0                5.1               3.5                1.4               0.2   \n",
       "1                4.9               3.0                1.4               0.2   \n",
       "2                4.7               3.2                1.3               0.2   \n",
       "3                4.6               3.1                1.5               0.2   \n",
       "4                5.0               3.6                1.4               0.2   \n",
       "5                5.4               3.9                1.7               0.4   \n",
       "6                4.6               3.4                1.4               0.3   \n",
       "7                5.0               3.4                1.5               0.2   \n",
       "8                4.4               2.9                1.4               0.2   \n",
       "9                4.9               3.1                1.5               0.1   \n",
       "\n",
       "   labels  \n",
       "0       1  \n",
       "1       1  \n",
       "2       1  \n",
       "3       1  \n",
       "4       1  \n",
       "5       1  \n",
       "6       1  \n",
       "7       1  \n",
       "8       1  \n",
       "9       1  "
      ]
     },
     "execution_count": 38,
     "metadata": {},
     "output_type": "execute_result"
    }
   ],
   "source": [
    "df.head(10)"
   ]
  },
  {
   "cell_type": "code",
   "execution_count": 42,
   "metadata": {
    "collapsed": false
   },
   "outputs": [
    {
     "data": {
      "text/plain": [
       "sepal length (cm)    47\n",
       "sepal width (cm)     47\n",
       "petal length (cm)    47\n",
       "petal width (cm)     47\n",
       "labels               47\n",
       "dtype: int64"
      ]
     },
     "execution_count": 42,
     "metadata": {},
     "output_type": "execute_result"
    }
   ],
   "source": [
    "(df[df['labels'] == 0].count())"
   ]
  },
  {
   "cell_type": "code",
   "execution_count": 48,
   "metadata": {
    "collapsed": false
   },
   "outputs": [
    {
     "data": {
      "text/html": [
       "<div>\n",
       "<table border=\"1\" class=\"dataframe\">\n",
       "  <thead>\n",
       "    <tr style=\"text-align: right;\">\n",
       "      <th></th>\n",
       "      <th>sepal length (cm)</th>\n",
       "      <th>sepal width (cm)</th>\n",
       "      <th>petal length (cm)</th>\n",
       "      <th>petal width (cm)</th>\n",
       "      <th>labels</th>\n",
       "    </tr>\n",
       "  </thead>\n",
       "  <tbody>\n",
       "    <tr>\n",
       "      <th>count</th>\n",
       "      <td>47.000000</td>\n",
       "      <td>47.000000</td>\n",
       "      <td>47.000000</td>\n",
       "      <td>47.000000</td>\n",
       "      <td>47</td>\n",
       "    </tr>\n",
       "    <tr>\n",
       "      <th>mean</th>\n",
       "      <td>6.780851</td>\n",
       "      <td>3.095745</td>\n",
       "      <td>5.510638</td>\n",
       "      <td>1.972340</td>\n",
       "      <td>0</td>\n",
       "    </tr>\n",
       "    <tr>\n",
       "      <th>std</th>\n",
       "      <td>0.490624</td>\n",
       "      <td>0.262063</td>\n",
       "      <td>0.638011</td>\n",
       "      <td>0.330811</td>\n",
       "      <td>0</td>\n",
       "    </tr>\n",
       "    <tr>\n",
       "      <th>min</th>\n",
       "      <td>5.900000</td>\n",
       "      <td>2.500000</td>\n",
       "      <td>4.400000</td>\n",
       "      <td>1.400000</td>\n",
       "      <td>0</td>\n",
       "    </tr>\n",
       "    <tr>\n",
       "      <th>25%</th>\n",
       "      <td>6.400000</td>\n",
       "      <td>3.000000</td>\n",
       "      <td>5.050000</td>\n",
       "      <td>1.800000</td>\n",
       "      <td>0</td>\n",
       "    </tr>\n",
       "    <tr>\n",
       "      <th>50%</th>\n",
       "      <td>6.700000</td>\n",
       "      <td>3.100000</td>\n",
       "      <td>5.600000</td>\n",
       "      <td>2.000000</td>\n",
       "      <td>0</td>\n",
       "    </tr>\n",
       "    <tr>\n",
       "      <th>75%</th>\n",
       "      <td>7.050000</td>\n",
       "      <td>3.200000</td>\n",
       "      <td>5.900000</td>\n",
       "      <td>2.300000</td>\n",
       "      <td>0</td>\n",
       "    </tr>\n",
       "    <tr>\n",
       "      <th>max</th>\n",
       "      <td>7.900000</td>\n",
       "      <td>3.800000</td>\n",
       "      <td>6.900000</td>\n",
       "      <td>2.500000</td>\n",
       "      <td>0</td>\n",
       "    </tr>\n",
       "  </tbody>\n",
       "</table>\n",
       "</div>"
      ],
      "text/plain": [
       "       sepal length (cm)  sepal width (cm)  petal length (cm)  \\\n",
       "count          47.000000         47.000000          47.000000   \n",
       "mean            6.780851          3.095745           5.510638   \n",
       "std             0.490624          0.262063           0.638011   \n",
       "min             5.900000          2.500000           4.400000   \n",
       "25%             6.400000          3.000000           5.050000   \n",
       "50%             6.700000          3.100000           5.600000   \n",
       "75%             7.050000          3.200000           5.900000   \n",
       "max             7.900000          3.800000           6.900000   \n",
       "\n",
       "       petal width (cm)  labels  \n",
       "count         47.000000      47  \n",
       "mean           1.972340       0  \n",
       "std            0.330811       0  \n",
       "min            1.400000       0  \n",
       "25%            1.800000       0  \n",
       "50%            2.000000       0  \n",
       "75%            2.300000       0  \n",
       "max            2.500000       0  "
      ]
     },
     "execution_count": 48,
     "metadata": {},
     "output_type": "execute_result"
    }
   ],
   "source": [
    "(df[df['labels'] == 0].describe())"
   ]
  },
  {
   "cell_type": "code",
   "execution_count": 43,
   "metadata": {
    "collapsed": false
   },
   "outputs": [
    {
     "data": {
      "text/plain": [
       "sepal length (cm)    50\n",
       "sepal width (cm)     50\n",
       "petal length (cm)    50\n",
       "petal width (cm)     50\n",
       "labels               50\n",
       "dtype: int64"
      ]
     },
     "execution_count": 43,
     "metadata": {},
     "output_type": "execute_result"
    }
   ],
   "source": [
    "df[df['labels'] == 1].count()"
   ]
  },
  {
   "cell_type": "code",
   "execution_count": 49,
   "metadata": {
    "collapsed": false
   },
   "outputs": [
    {
     "data": {
      "text/html": [
       "<div>\n",
       "<table border=\"1\" class=\"dataframe\">\n",
       "  <thead>\n",
       "    <tr style=\"text-align: right;\">\n",
       "      <th></th>\n",
       "      <th>sepal length (cm)</th>\n",
       "      <th>sepal width (cm)</th>\n",
       "      <th>petal length (cm)</th>\n",
       "      <th>petal width (cm)</th>\n",
       "      <th>labels</th>\n",
       "    </tr>\n",
       "  </thead>\n",
       "  <tbody>\n",
       "    <tr>\n",
       "      <th>count</th>\n",
       "      <td>50.00000</td>\n",
       "      <td>50.000000</td>\n",
       "      <td>50.000000</td>\n",
       "      <td>50.00000</td>\n",
       "      <td>50</td>\n",
       "    </tr>\n",
       "    <tr>\n",
       "      <th>mean</th>\n",
       "      <td>5.00600</td>\n",
       "      <td>3.418000</td>\n",
       "      <td>1.464000</td>\n",
       "      <td>0.24400</td>\n",
       "      <td>1</td>\n",
       "    </tr>\n",
       "    <tr>\n",
       "      <th>std</th>\n",
       "      <td>0.35249</td>\n",
       "      <td>0.381024</td>\n",
       "      <td>0.173511</td>\n",
       "      <td>0.10721</td>\n",
       "      <td>0</td>\n",
       "    </tr>\n",
       "    <tr>\n",
       "      <th>min</th>\n",
       "      <td>4.30000</td>\n",
       "      <td>2.300000</td>\n",
       "      <td>1.000000</td>\n",
       "      <td>0.10000</td>\n",
       "      <td>1</td>\n",
       "    </tr>\n",
       "    <tr>\n",
       "      <th>25%</th>\n",
       "      <td>4.80000</td>\n",
       "      <td>3.125000</td>\n",
       "      <td>1.400000</td>\n",
       "      <td>0.20000</td>\n",
       "      <td>1</td>\n",
       "    </tr>\n",
       "    <tr>\n",
       "      <th>50%</th>\n",
       "      <td>5.00000</td>\n",
       "      <td>3.400000</td>\n",
       "      <td>1.500000</td>\n",
       "      <td>0.20000</td>\n",
       "      <td>1</td>\n",
       "    </tr>\n",
       "    <tr>\n",
       "      <th>75%</th>\n",
       "      <td>5.20000</td>\n",
       "      <td>3.675000</td>\n",
       "      <td>1.575000</td>\n",
       "      <td>0.30000</td>\n",
       "      <td>1</td>\n",
       "    </tr>\n",
       "    <tr>\n",
       "      <th>max</th>\n",
       "      <td>5.80000</td>\n",
       "      <td>4.400000</td>\n",
       "      <td>1.900000</td>\n",
       "      <td>0.60000</td>\n",
       "      <td>1</td>\n",
       "    </tr>\n",
       "  </tbody>\n",
       "</table>\n",
       "</div>"
      ],
      "text/plain": [
       "       sepal length (cm)  sepal width (cm)  petal length (cm)  \\\n",
       "count           50.00000         50.000000          50.000000   \n",
       "mean             5.00600          3.418000           1.464000   \n",
       "std              0.35249          0.381024           0.173511   \n",
       "min              4.30000          2.300000           1.000000   \n",
       "25%              4.80000          3.125000           1.400000   \n",
       "50%              5.00000          3.400000           1.500000   \n",
       "75%              5.20000          3.675000           1.575000   \n",
       "max              5.80000          4.400000           1.900000   \n",
       "\n",
       "       petal width (cm)  labels  \n",
       "count          50.00000      50  \n",
       "mean            0.24400       1  \n",
       "std             0.10721       0  \n",
       "min             0.10000       1  \n",
       "25%             0.20000       1  \n",
       "50%             0.20000       1  \n",
       "75%             0.30000       1  \n",
       "max             0.60000       1  "
      ]
     },
     "execution_count": 49,
     "metadata": {},
     "output_type": "execute_result"
    }
   ],
   "source": [
    "(df[df['labels'] == 1].describe())"
   ]
  },
  {
   "cell_type": "code",
   "execution_count": 50,
   "metadata": {
    "collapsed": false
   },
   "outputs": [
    {
     "data": {
      "text/html": [
       "<div>\n",
       "<table border=\"1\" class=\"dataframe\">\n",
       "  <thead>\n",
       "    <tr style=\"text-align: right;\">\n",
       "      <th></th>\n",
       "      <th>sepal length (cm)</th>\n",
       "      <th>sepal width (cm)</th>\n",
       "      <th>petal length (cm)</th>\n",
       "      <th>petal width (cm)</th>\n",
       "      <th>labels</th>\n",
       "    </tr>\n",
       "  </thead>\n",
       "  <tbody>\n",
       "    <tr>\n",
       "      <th>count</th>\n",
       "      <td>53.000000</td>\n",
       "      <td>53.000000</td>\n",
       "      <td>53.000000</td>\n",
       "      <td>53.000000</td>\n",
       "      <td>53</td>\n",
       "    </tr>\n",
       "    <tr>\n",
       "      <th>mean</th>\n",
       "      <td>5.801887</td>\n",
       "      <td>2.673585</td>\n",
       "      <td>4.369811</td>\n",
       "      <td>1.413208</td>\n",
       "      <td>2</td>\n",
       "    </tr>\n",
       "    <tr>\n",
       "      <th>std</th>\n",
       "      <td>0.405487</td>\n",
       "      <td>0.254310</td>\n",
       "      <td>0.560420</td>\n",
       "      <td>0.311348</td>\n",
       "      <td>0</td>\n",
       "    </tr>\n",
       "    <tr>\n",
       "      <th>min</th>\n",
       "      <td>4.900000</td>\n",
       "      <td>2.000000</td>\n",
       "      <td>3.000000</td>\n",
       "      <td>1.000000</td>\n",
       "      <td>2</td>\n",
       "    </tr>\n",
       "    <tr>\n",
       "      <th>25%</th>\n",
       "      <td>5.600000</td>\n",
       "      <td>2.500000</td>\n",
       "      <td>4.000000</td>\n",
       "      <td>1.200000</td>\n",
       "      <td>2</td>\n",
       "    </tr>\n",
       "    <tr>\n",
       "      <th>50%</th>\n",
       "      <td>5.800000</td>\n",
       "      <td>2.700000</td>\n",
       "      <td>4.400000</td>\n",
       "      <td>1.300000</td>\n",
       "      <td>2</td>\n",
       "    </tr>\n",
       "    <tr>\n",
       "      <th>75%</th>\n",
       "      <td>6.100000</td>\n",
       "      <td>2.900000</td>\n",
       "      <td>4.800000</td>\n",
       "      <td>1.500000</td>\n",
       "      <td>2</td>\n",
       "    </tr>\n",
       "    <tr>\n",
       "      <th>max</th>\n",
       "      <td>6.600000</td>\n",
       "      <td>3.000000</td>\n",
       "      <td>5.600000</td>\n",
       "      <td>2.400000</td>\n",
       "      <td>2</td>\n",
       "    </tr>\n",
       "  </tbody>\n",
       "</table>\n",
       "</div>"
      ],
      "text/plain": [
       "       sepal length (cm)  sepal width (cm)  petal length (cm)  \\\n",
       "count          53.000000         53.000000          53.000000   \n",
       "mean            5.801887          2.673585           4.369811   \n",
       "std             0.405487          0.254310           0.560420   \n",
       "min             4.900000          2.000000           3.000000   \n",
       "25%             5.600000          2.500000           4.000000   \n",
       "50%             5.800000          2.700000           4.400000   \n",
       "75%             6.100000          2.900000           4.800000   \n",
       "max             6.600000          3.000000           5.600000   \n",
       "\n",
       "       petal width (cm)  labels  \n",
       "count         53.000000      53  \n",
       "mean           1.413208       2  \n",
       "std            0.311348       0  \n",
       "min            1.000000       2  \n",
       "25%            1.200000       2  \n",
       "50%            1.300000       2  \n",
       "75%            1.500000       2  \n",
       "max            2.400000       2  "
      ]
     },
     "execution_count": 50,
     "metadata": {},
     "output_type": "execute_result"
    }
   ],
   "source": [
    "(df[df['labels'] == 2].describe())"
   ]
  },
  {
   "cell_type": "code",
   "execution_count": 44,
   "metadata": {
    "collapsed": false
   },
   "outputs": [
    {
     "data": {
      "text/plain": [
       "sepal length (cm)    53\n",
       "sepal width (cm)     53\n",
       "petal length (cm)    53\n",
       "petal width (cm)     53\n",
       "labels               53\n",
       "dtype: int64"
      ]
     },
     "execution_count": 44,
     "metadata": {},
     "output_type": "execute_result"
    }
   ],
   "source": [
    "df[df['labels'] == 2].count()"
   ]
  },
  {
   "cell_type": "code",
   "execution_count": 47,
   "metadata": {
    "collapsed": false
   },
   "outputs": [
    {
     "data": {
      "text/plain": [
       "<mpl_toolkits.mplot3d.art3d.Path3DCollection at 0x20211978>"
      ]
     },
     "execution_count": 47,
     "metadata": {},
     "output_type": "execute_result"
    },
    {
     "data": {
      "image/png": "[encoded data removed]",
      "text/plain": [
       "<matplotlib.figure.Figure at 0x1fe007f0>"
      ]
     },
     "metadata": {},
     "output_type": "display_data"
    }
   ],
   "source": [
    "from sklearn.manifold import TSNE\n",
    "from mpl_toolkits.mplot3d import Axes3D\n",
    "import matplotlib.pyplot as plt\n",
    "\n",
    "model = TSNE(n_components=3, learning_rate=12, random_state=10)\n",
    "df_tsne = model.fit_transform(df) \n",
    "plt.figure(figsize=(10,10))\n",
    "ax = plt.subplot(111, projection='3d')\n",
    "ax.scatter(df_tsne[:, 0], df_tsne[:, 1],df_tsne[:,2], c=kmeans_model.labels_)"
   ]
  },
  {
   "cell_type": "markdown",
   "metadata": {},
   "source": [
    "In my Data Analytics class, we just did a K-Means clustering assignment using MapReduce to clean the data (Yelp reviews dataset) by removing stopwords and appending reviews for each business id.  Once the data was cleaned, we used Mahout to create TFIDF vectors which were input into the K Means driver. What I wasn't able to understand from that assignment was how many clusters to choose (we were just told to use 20).  But, in this assignment, you visually showed us a way to determine the number of clusters to use.  Thanks!"
   ]
  }
 ],
 "metadata": {
  "kernelspec": {
   "display_name": "Python 2",
   "language": "python",
   "name": "python2"
  },
  "language_info": {
   "codemirror_mode": {
    "name": "ipython",
    "version": 2
   },
   "file_extension": ".py",
   "mimetype": "text/x-python",
   "name": "python",
   "nbconvert_exporter": "python",
   "pygments_lexer": "ipython2",
   "version": "2.7.11"
  }
 },
 "nbformat": 4,
 "nbformat_minor": 0
}
